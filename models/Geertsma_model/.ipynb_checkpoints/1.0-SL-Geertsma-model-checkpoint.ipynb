{
 "cells": [
  {
   "cell_type": "markdown",
   "id": "2bf9fb07",
   "metadata": {},
   "source": [
    "# Geerstma (1973) model\n",
    "\n",
    "This model computes the stresses associated with a step change in pore pressure in a cylindrical reservoir embedded in an elastic half-space. \n"
   ]
  },
  {
   "cell_type": "code",
   "execution_count": 3,
   "id": "7410001d",
   "metadata": {},
   "outputs": [],
   "source": [
    "import matplotlib.pyplot as plt\n",
    "import numpy as np\n",
    "import scipy.integrate as integrate\n",
    "import scipy.special as sp"
   ]
  },
  {
   "cell_type": "markdown",
   "id": "dc6b75d8",
   "metadata": {},
   "source": [
    "## Constants"
   ]
  },
  {
   "cell_type": "code",
   "execution_count": 6,
   "id": "6405bb02",
   "metadata": {},
   "outputs": [
    {
     "data": {
      "text/plain": [
       "17.5"
      ]
     },
     "execution_count": 6,
     "metadata": {},
     "output_type": "execute_result"
    }
   ],
   "source": [
    "nu = 0.25               # Poisson's ratio\n",
    "alpha = 1               # Biot coefficient\n",
    "R = 1000                # Aquifer radius [m]\n",
    "d = 5                   # Aquifer depth from ice surface to water table [m]\n",
    "b = 25                  # Aquifer thickness [m]\n",
    "c = d + b/2             # Depth of aquifer center [m]\n",
    "rho = 1000              # Water density [kg/m^3]\n",
    "g = 10                  # gravitational constant [m/s^2]\n",
    "delta_p = 0.5*rho*g*b   # Change in pore water pressure [Pa]"
   ]
  },
  {
   "cell_type": "markdown",
   "id": "5f8757bd",
   "metadata": {},
   "source": [
    "## Spatial domain and stress variables"
   ]
  },
  {
   "cell_type": "code",
   "execution_count": 8,
   "id": "a0083e4f",
   "metadata": {},
   "outputs": [],
   "source": [
    "r = np.arange(0.1,2000,20)\n",
    "z = np.arange(0.1,200,10)\n",
    "\n",
    "sigma_rr = np.empty([r.shape[0],z.shape[0]])\n",
    "sigma_phi_phi = np.empty([r.shape[0],z.shape[0]])"
   ]
  },
  {
   "cell_type": "markdown",
   "id": "19fdb24c",
   "metadata": {},
   "source": [
    "## Compute stresses"
   ]
  },
  {
   "cell_type": "code",
   "execution_count": 9,
   "id": "785cbd32",
   "metadata": {
    "jupyter": {
     "outputs_hidden": true
    },
    "scrolled": true,
    "tags": []
   },
   "outputs": [
    {
     "name": "stdout",
     "output_type": "stream",
     "text": [
      "0\n"
     ]
    },
    {
     "name": "stderr",
     "output_type": "stream",
     "text": [
      "/var/folders/vr/ys7d0t4j1_dcz_mxm3yz09v40000gn/T/ipykernel_5984/979526234.py:13: IntegrationWarning: The maximum number of subdivisions (1000) has been achieved.\n",
      "  If increasing the limit yields no improvement it is advised to analyze \n",
      "  the integrand in order to determine the difficulties.  If the position of a \n",
      "  local difficulty can be determined (singularity, discontinuity) one will \n",
      "  probably gain from splitting up the interval and calling the integrator \n",
      "  on the subranges.  Perhaps a special-purpose integrator should be used.\n",
      "  I_1,err = integrate.quad(lambda x: np.exp(-q_alt*x)*x*sp.jv(1,x*R)*sp.jv(0,x*r[i]),0,np.inf,limit = 1000,epsabs=1e-10)\n"
     ]
    },
    {
     "name": "stdout",
     "output_type": "stream",
     "text": [
      "1\n",
      "2\n",
      "3\n",
      "4\n",
      "5\n",
      "6\n",
      "7\n",
      "8\n",
      "9\n",
      "10\n",
      "11\n",
      "12\n",
      "13\n",
      "14\n",
      "15\n",
      "16\n",
      "17\n",
      "18\n",
      "19\n",
      "20\n",
      "21\n",
      "22\n",
      "23\n",
      "24\n",
      "25\n",
      "26\n",
      "27\n",
      "28\n"
     ]
    },
    {
     "name": "stderr",
     "output_type": "stream",
     "text": [
      "/var/folders/vr/ys7d0t4j1_dcz_mxm3yz09v40000gn/T/ipykernel_5984/979526234.py:16: IntegrationWarning: The maximum number of subdivisions (1000) has been achieved.\n",
      "  If increasing the limit yields no improvement it is advised to analyze \n",
      "  the integrand in order to determine the difficulties.  If the position of a \n",
      "  local difficulty can be determined (singularity, discontinuity) one will \n",
      "  probably gain from splitting up the interval and calling the integrator \n",
      "  on the subranges.  Perhaps a special-purpose integrator should be used.\n",
      "  I_4,err = integrate.quad(lambda x: np.exp(-q_alt*x)*sp.jv(1,x*R)*sp.jv(1,x*r[i]),0,np.inf,limit = 1000,epsabs=1e-10)\n"
     ]
    },
    {
     "name": "stdout",
     "output_type": "stream",
     "text": [
      "29\n",
      "30\n",
      "31\n",
      "32\n",
      "33\n",
      "34\n"
     ]
    },
    {
     "name": "stderr",
     "output_type": "stream",
     "text": [
      "/var/folders/vr/ys7d0t4j1_dcz_mxm3yz09v40000gn/T/ipykernel_5984/979526234.py:15: IntegrationWarning: The integral is probably divergent, or slowly convergent.\n",
      "  I_3,err = integrate.quad(lambda x: np.exp(-q*x)*(x**2)*sp.jv(1,x*R)*sp.jv(0,x*r[i]),0,np.inf,limit = 1000,epsabs=1e-10)\n"
     ]
    },
    {
     "name": "stdout",
     "output_type": "stream",
     "text": [
      "35\n",
      "36\n",
      "37\n",
      "38\n",
      "39\n",
      "40\n",
      "41\n",
      "42\n",
      "43\n",
      "44\n",
      "45\n",
      "46\n",
      "47\n",
      "48\n",
      "49\n",
      "50\n",
      "51\n",
      "52\n",
      "53\n",
      "54\n",
      "55\n",
      "56\n",
      "57\n",
      "58\n",
      "59\n",
      "60\n",
      "61\n",
      "62\n",
      "63\n",
      "64\n",
      "65\n",
      "66\n",
      "67\n",
      "68\n",
      "69\n",
      "70\n",
      "71\n",
      "72\n",
      "73\n",
      "74\n",
      "75\n",
      "76\n",
      "77\n",
      "78\n",
      "79\n",
      "80\n",
      "81\n",
      "82\n",
      "83\n",
      "84\n",
      "85\n",
      "86\n",
      "87\n",
      "88\n",
      "89\n",
      "90\n",
      "91\n",
      "92\n",
      "93\n",
      "94\n",
      "95\n",
      "96\n",
      "97\n",
      "98\n",
      "99\n"
     ]
    }
   ],
   "source": [
    "for i in np.arange(r.shape[0]):\n",
    "    print(i)\n",
    "    for j in np.arange(z.shape[0]):\n",
    "        if z[j]>c:\n",
    "            epsilon = -1\n",
    "        else:\n",
    "            epsilon = 1\n",
    "        \n",
    "        q_alt = -epsilon*(z[j]-c)\n",
    "        q = z[j]+c\n",
    "        I_1,err = integrate.quad(lambda x: np.exp(-q_alt*x)*x*sp.jv(1,x*R)*sp.jv(0,x*r[i]),0,np.inf,limit = 1000,epsabs=1e-10)\n",
    "        I_2,err = integrate.quad(lambda x: np.exp(-q*x)*x*sp.jv(1,x*R)*sp.jv(0,x*r[i]),0,np.inf,limit = 1000,epsabs=1e-10)\n",
    "        I_3,err = integrate.quad(lambda x: np.exp(-q*x)*(x**2)*sp.jv(1,x*R)*sp.jv(0,x*r[i]),0,np.inf,limit = 1000,epsabs=1e-10)\n",
    "        I_4,err = integrate.quad(lambda x: np.exp(-q_alt*x)*sp.jv(1,x*R)*sp.jv(1,x*r[i]),0,np.inf,limit = 1000,epsabs=1e-10)\n",
    "        I_5,err = integrate.quad(lambda x: np.exp(-q*x)*sp.jv(1,x*R)*sp.jv(1,x*r[i]),0,np.inf,limit = 1000,epsabs=1e-10)\n",
    "        I_6,err = integrate.quad(lambda x: np.exp(-q*x)*x*sp.jv(1,x*R)*sp.jv(1,x*r[i]),0,np.inf,limit = 1000,epsabs=1e-10)\n",
    "                \n",
    "        sigma_rr[i,j] = alpha*(1-2*nu)/(2*(1-nu))*R*b*delta_p*((I_1+3*I_2-2*z[j]*I_3)-(1/r[i])*(I_4+(3-4*nu)*I_5-2*z[j]*I_6));\n",
    "        sigma_phi_phi[i,j] = alpha*(1-2*nu)/(2*(1-nu))*R*b*delta_p*(4*nu*I_2+1/r[i]*(I_4+(3-4*nu)*I_5-2*z[j]*I_6));"
   ]
  },
  {
   "cell_type": "markdown",
   "id": "45fbe59f",
   "metadata": {
    "jupyter": {
     "source_hidden": true
    },
    "tags": []
   },
   "source": [
    "## Plots"
   ]
  },
  {
   "cell_type": "code",
   "execution_count": 15,
   "id": "fda2d1a0",
   "metadata": {
    "jupyter": {
     "outputs_hidden": true,
     "source_hidden": true
    },
    "scrolled": false,
    "tags": []
   },
   "outputs": [
    {
     "ename": "ValueError",
     "evalue": "keyword fontname is not recognized; valid keywords are ['size', 'width', 'color', 'tickdir', 'pad', 'labelsize', 'labelcolor', 'zorder', 'gridOn', 'tick1On', 'tick2On', 'label1On', 'label2On', 'length', 'direction', 'left', 'bottom', 'right', 'top', 'labelleft', 'labelbottom', 'labelright', 'labeltop', 'labelrotation', 'grid_agg_filter', 'grid_alpha', 'grid_animated', 'grid_antialiased', 'grid_clip_box', 'grid_clip_on', 'grid_clip_path', 'grid_color', 'grid_dash_capstyle', 'grid_dash_joinstyle', 'grid_dashes', 'grid_data', 'grid_drawstyle', 'grid_figure', 'grid_fillstyle', 'grid_gid', 'grid_in_layout', 'grid_label', 'grid_linestyle', 'grid_linewidth', 'grid_marker', 'grid_markeredgecolor', 'grid_markeredgewidth', 'grid_markerfacecolor', 'grid_markerfacecoloralt', 'grid_markersize', 'grid_markevery', 'grid_path_effects', 'grid_picker', 'grid_pickradius', 'grid_rasterized', 'grid_sketch_params', 'grid_snap', 'grid_solid_capstyle', 'grid_solid_joinstyle', 'grid_transform', 'grid_url', 'grid_visible', 'grid_xdata', 'grid_ydata', 'grid_zorder', 'grid_aa', 'grid_c', 'grid_ds', 'grid_ls', 'grid_lw', 'grid_mec', 'grid_mew', 'grid_mfc', 'grid_mfcalt', 'grid_ms']",
     "output_type": "error",
     "traceback": [
      "\u001b[0;31m---------------------------------------------------------------------------\u001b[0m",
      "\u001b[0;31mValueError\u001b[0m                                Traceback (most recent call last)",
      "Input \u001b[0;32mIn [15]\u001b[0m, in \u001b[0;36m<cell line: 15>\u001b[0;34m()\u001b[0m\n\u001b[1;32m     13\u001b[0m ax\u001b[38;5;241m.\u001b[39mset_ylabel(\u001b[38;5;124m\"\u001b[39m\u001b[38;5;124mz [m]\u001b[39m\u001b[38;5;124m\"\u001b[39m, fontsize \u001b[38;5;241m=\u001b[39m \u001b[38;5;241m18\u001b[39m,fontname \u001b[38;5;241m=\u001b[39m \u001b[38;5;124m'\u001b[39m\u001b[38;5;124mAvenir\u001b[39m\u001b[38;5;124m'\u001b[39m)\n\u001b[1;32m     14\u001b[0m ax\u001b[38;5;241m.\u001b[39mset_title(\u001b[38;5;124m\"\u001b[39m\u001b[38;5;124mRadial normal stresses\u001b[39m\u001b[38;5;124m\"\u001b[39m,fontsize \u001b[38;5;241m=\u001b[39m \u001b[38;5;241m22\u001b[39m,fontname \u001b[38;5;241m=\u001b[39m \u001b[38;5;124m'\u001b[39m\u001b[38;5;124mAvenir\u001b[39m\u001b[38;5;124m'\u001b[39m)\n\u001b[0;32m---> 15\u001b[0m \u001b[43max\u001b[49m\u001b[38;5;241;43m.\u001b[39;49m\u001b[43mtick_params\u001b[49m\u001b[43m(\u001b[49m\u001b[43maxis\u001b[49m\u001b[43m \u001b[49m\u001b[38;5;241;43m=\u001b[39;49m\u001b[43m \u001b[49m\u001b[38;5;124;43m\"\u001b[39;49m\u001b[38;5;124;43mboth\u001b[39;49m\u001b[38;5;124;43m\"\u001b[39;49m\u001b[43m,\u001b[49m\u001b[43mlabelsize\u001b[49m\u001b[43m \u001b[49m\u001b[38;5;241;43m=\u001b[39;49m\u001b[43m \u001b[49m\u001b[38;5;241;43m18\u001b[39;49m\u001b[43m,\u001b[49m\u001b[43mfontname\u001b[49m\u001b[43m \u001b[49m\u001b[38;5;241;43m=\u001b[39;49m\u001b[43m \u001b[49m\u001b[38;5;124;43m'\u001b[39;49m\u001b[38;5;124;43mAvenir\u001b[39;49m\u001b[38;5;124;43m'\u001b[39;49m\u001b[43m)\u001b[49m\n\u001b[1;32m     16\u001b[0m plt\u001b[38;5;241m.\u001b[39mxlim(\u001b[38;5;241m0\u001b[39m,np\u001b[38;5;241m.\u001b[39mmax(r))\n\u001b[1;32m     17\u001b[0m plt\u001b[38;5;241m.\u001b[39mylim(np\u001b[38;5;241m.\u001b[39mmax(z),\u001b[38;5;241m0\u001b[39m)\n",
      "File \u001b[0;32m~/miniconda3/envs/firn_aquifer_env/lib/python3.10/site-packages/matplotlib/axes/_base.py:3428\u001b[0m, in \u001b[0;36m_AxesBase.tick_params\u001b[0;34m(self, axis, **kwargs)\u001b[0m\n\u001b[1;32m   3426\u001b[0m     xkw\u001b[38;5;241m.\u001b[39mpop(\u001b[38;5;124m'\u001b[39m\u001b[38;5;124mlabelleft\u001b[39m\u001b[38;5;124m'\u001b[39m, \u001b[38;5;28;01mNone\u001b[39;00m)\n\u001b[1;32m   3427\u001b[0m     xkw\u001b[38;5;241m.\u001b[39mpop(\u001b[38;5;124m'\u001b[39m\u001b[38;5;124mlabelright\u001b[39m\u001b[38;5;124m'\u001b[39m, \u001b[38;5;28;01mNone\u001b[39;00m)\n\u001b[0;32m-> 3428\u001b[0m     \u001b[38;5;28;43mself\u001b[39;49m\u001b[38;5;241;43m.\u001b[39;49m\u001b[43mxaxis\u001b[49m\u001b[38;5;241;43m.\u001b[39;49m\u001b[43mset_tick_params\u001b[49m\u001b[43m(\u001b[49m\u001b[38;5;241;43m*\u001b[39;49m\u001b[38;5;241;43m*\u001b[39;49m\u001b[43mxkw\u001b[49m\u001b[43m)\u001b[49m\n\u001b[1;32m   3429\u001b[0m \u001b[38;5;28;01mif\u001b[39;00m axis \u001b[38;5;129;01min\u001b[39;00m [\u001b[38;5;124m'\u001b[39m\u001b[38;5;124my\u001b[39m\u001b[38;5;124m'\u001b[39m, \u001b[38;5;124m'\u001b[39m\u001b[38;5;124mboth\u001b[39m\u001b[38;5;124m'\u001b[39m]:\n\u001b[1;32m   3430\u001b[0m     ykw \u001b[38;5;241m=\u001b[39m \u001b[38;5;28mdict\u001b[39m(kwargs)\n",
      "File \u001b[0;32m~/miniconda3/envs/firn_aquifer_env/lib/python3.10/site-packages/matplotlib/axis.py:858\u001b[0m, in \u001b[0;36mAxis.set_tick_params\u001b[0;34m(self, which, reset, **kw)\u001b[0m\n\u001b[1;32m    851\u001b[0m \u001b[38;5;124;03m\"\"\"\u001b[39;00m\n\u001b[1;32m    852\u001b[0m \u001b[38;5;124;03mSet appearance parameters for ticks, ticklabels, and gridlines.\u001b[39;00m\n\u001b[1;32m    853\u001b[0m \n\u001b[1;32m    854\u001b[0m \u001b[38;5;124;03mFor documentation of keyword arguments, see\u001b[39;00m\n\u001b[1;32m    855\u001b[0m \u001b[38;5;124;03m:meth:`matplotlib.axes.Axes.tick_params`.\u001b[39;00m\n\u001b[1;32m    856\u001b[0m \u001b[38;5;124;03m\"\"\"\u001b[39;00m\n\u001b[1;32m    857\u001b[0m _api\u001b[38;5;241m.\u001b[39mcheck_in_list([\u001b[38;5;124m'\u001b[39m\u001b[38;5;124mmajor\u001b[39m\u001b[38;5;124m'\u001b[39m, \u001b[38;5;124m'\u001b[39m\u001b[38;5;124mminor\u001b[39m\u001b[38;5;124m'\u001b[39m, \u001b[38;5;124m'\u001b[39m\u001b[38;5;124mboth\u001b[39m\u001b[38;5;124m'\u001b[39m], which\u001b[38;5;241m=\u001b[39mwhich)\n\u001b[0;32m--> 858\u001b[0m kwtrans \u001b[38;5;241m=\u001b[39m \u001b[38;5;28;43mself\u001b[39;49m\u001b[38;5;241;43m.\u001b[39;49m\u001b[43m_translate_tick_kw\u001b[49m\u001b[43m(\u001b[49m\u001b[43mkw\u001b[49m\u001b[43m)\u001b[49m\n\u001b[1;32m    860\u001b[0m \u001b[38;5;66;03m# the kwargs are stored in self._major/minor_tick_kw so that any\u001b[39;00m\n\u001b[1;32m    861\u001b[0m \u001b[38;5;66;03m# future new ticks will automatically get them\u001b[39;00m\n\u001b[1;32m    862\u001b[0m \u001b[38;5;28;01mif\u001b[39;00m reset:\n",
      "File \u001b[0;32m~/miniconda3/envs/firn_aquifer_env/lib/python3.10/site-packages/matplotlib/axis.py:928\u001b[0m, in \u001b[0;36mAxis._translate_tick_kw\u001b[0;34m(kw)\u001b[0m\n\u001b[1;32m    926\u001b[0m \u001b[38;5;28;01mfor\u001b[39;00m key \u001b[38;5;129;01min\u001b[39;00m kw:\n\u001b[1;32m    927\u001b[0m     \u001b[38;5;28;01mif\u001b[39;00m key \u001b[38;5;129;01mnot\u001b[39;00m \u001b[38;5;129;01min\u001b[39;00m kwkeys:\n\u001b[0;32m--> 928\u001b[0m         \u001b[38;5;28;01mraise\u001b[39;00m \u001b[38;5;167;01mValueError\u001b[39;00m(\n\u001b[1;32m    929\u001b[0m             \u001b[38;5;124m\"\u001b[39m\u001b[38;5;124mkeyword \u001b[39m\u001b[38;5;132;01m%s\u001b[39;00m\u001b[38;5;124m is not recognized; valid keywords are \u001b[39m\u001b[38;5;132;01m%s\u001b[39;00m\u001b[38;5;124m\"\u001b[39m\n\u001b[1;32m    930\u001b[0m             \u001b[38;5;241m%\u001b[39m (key, kwkeys))\n\u001b[1;32m    931\u001b[0m kwtrans\u001b[38;5;241m.\u001b[39mupdate(kw)\n\u001b[1;32m    932\u001b[0m \u001b[38;5;28;01mreturn\u001b[39;00m kwtrans\n",
      "\u001b[0;31mValueError\u001b[0m: keyword fontname is not recognized; valid keywords are ['size', 'width', 'color', 'tickdir', 'pad', 'labelsize', 'labelcolor', 'zorder', 'gridOn', 'tick1On', 'tick2On', 'label1On', 'label2On', 'length', 'direction', 'left', 'bottom', 'right', 'top', 'labelleft', 'labelbottom', 'labelright', 'labeltop', 'labelrotation', 'grid_agg_filter', 'grid_alpha', 'grid_animated', 'grid_antialiased', 'grid_clip_box', 'grid_clip_on', 'grid_clip_path', 'grid_color', 'grid_dash_capstyle', 'grid_dash_joinstyle', 'grid_dashes', 'grid_data', 'grid_drawstyle', 'grid_figure', 'grid_fillstyle', 'grid_gid', 'grid_in_layout', 'grid_label', 'grid_linestyle', 'grid_linewidth', 'grid_marker', 'grid_markeredgecolor', 'grid_markeredgewidth', 'grid_markerfacecolor', 'grid_markerfacecoloralt', 'grid_markersize', 'grid_markevery', 'grid_path_effects', 'grid_picker', 'grid_pickradius', 'grid_rasterized', 'grid_sketch_params', 'grid_snap', 'grid_solid_capstyle', 'grid_solid_joinstyle', 'grid_transform', 'grid_url', 'grid_visible', 'grid_xdata', 'grid_ydata', 'grid_zorder', 'grid_aa', 'grid_c', 'grid_ds', 'grid_ls', 'grid_lw', 'grid_mec', 'grid_mew', 'grid_mfc', 'grid_mfcalt', 'grid_ms']"
     ]
    },
    {
     "data": {
      "image/png": "[encoded data removed]",
      "text/plain": [
       "<Figure size 1000x600 with 2 Axes>"
      ]
     },
     "metadata": {},
     "output_type": "display_data"
    }
   ],
   "source": [
    "fig, ax = plt.subplots(figsize = (10,6))\n",
    "\n",
    "plt.pcolor(r,z,np.transpose(sigma_rr)/1e3,cmap=\"RdBu_r\",vmin = -15, vmax = 15)\n",
    "cb = plt.colorbar(ax=ax)\n",
    "cb.set_label(label=\"$\\sigma_{rr}$ [kPa]\",fontsize = 18)\n",
    "cb.ax.tick_params(labelsize=16)\n",
    "\n",
    "plt.plot([0,R],[d+b/2,d+b/2],'--k')\n",
    "plt.plot([0,R],[d-b/2,d-b/2],'--k')\n",
    "plt.plot([R,R],[d-b/2,d+b/2],'--k')\n",
    "\n",
    "ax.set_xlabel(\"r [m]\",fontsize = 18)\n",
    "ax.set_ylabel(\"z [m]\", fontsize = 18)\n",
    "ax.set_title(\"Radial normal stresses\",fontsize = 22)\n",
    "ax.tick_params(axis = \"both\",labelsize = 18)\n",
    "plt.xlim(0,np.max(r))\n",
    "plt.ylim(np.max(z),0)\n",
    "\n",
    "plt.show()\n",
    "\n",
    "fig, ax = plt.subplots(figsize = (10,6))\n",
    "\n",
    "plt.pcolor(r,z,np.transpose(sigma_phi_phi)/1e3,cmap=\"RdBu_r\",vmin = -15, vmax = 15)\n",
    "cb = plt.colorbar(ax=ax)\n",
    "cb.set_label(label=\"$\\sigma_{\\phi\\phi}$ [kPa]\",fontsize = 18)\n",
    "cb.ax.tick_params(labelsize=16)\n",
    "\n",
    "plt.plot([0,R],[d+b/2,d+b/2],'--k')\n",
    "plt.plot([0,R],[d-b/2,d-b/2],'--k')\n",
    "plt.plot([R,R],[d-b/2,d+b/2],'--k')\n",
    "\n",
    "ax.set_xlabel(\"r [m]\",fontsize = 18,fontname = 'Avenir')\n",
    "ax.set_ylabel(\"z [m]\", fontsize = 18,fontname = 'Avenir')\n",
    "ax.set_title(\"Tangential normal stresses\",fontsize = 22,fontname = 'Avenir')\n",
    "ax.tick_params(axis = \"both\",labelsize = 18)\n",
    "plt.xlim(0,np.max(r))\n",
    "plt.ylim(np.max(z),0)\n",
    "\n",
    "plt.show()"
   ]
  },
  {
   "cell_type": "code",
   "execution_count": null,
   "id": "d95409d4",
   "metadata": {},
   "outputs": [],
   "source": []
  }
 ],
 "metadata": {
  "kernelspec": {
   "display_name": "Python 3 (ipykernel)",
   "language": "python",
   "name": "python3"
  },
  "language_info": {
   "codemirror_mode": {
    "name": "ipython",
    "version": 3
   },
   "file_extension": ".py",
   "mimetype": "text/x-python",
   "name": "python",
   "nbconvert_exporter": "python",
   "pygments_lexer": "ipython3",
   "version": "3.10.6"
  }
 },
 "nbformat": 4,
 "nbformat_minor": 5
}
